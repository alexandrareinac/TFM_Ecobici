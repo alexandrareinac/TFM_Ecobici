{
 "cells": [
  {
   "cell_type": "code",
   "execution_count": 1,
   "id": "051bda4f-e3be-4dc9-a20d-dc0ccffc2762",
   "metadata": {},
   "outputs": [
    {
     "name": "stdout",
     "output_type": "stream",
     "text": [
      "Se hizo clic en 'Listado de Cicloestaciones'.\n",
      "Datos de 678 estaciones guardados en 'ecobici_estaciones.csv'.\n"
     ]
    }
   ],
   "source": [
    "from selenium import webdriver\n",
    "from selenium.webdriver.chrome.service import Service\n",
    "from selenium.webdriver.common.by import By\n",
    "from selenium.webdriver.common.action_chains import ActionChains\n",
    "import time\n",
    "import csv\n",
    "\n",
    "s = Service(r\"C:\\Users\\HP\\Documents\\UCM\\GESTION Y EXPLOTACION\\chromedriver.exe\")  \n",
    "\n",
    "# Configurar Selenium \n",
    "options = webdriver.ChromeOptions()\n",
    "options.add_argument(\"--headless\")  \n",
    "\n",
    "# Iniciar WebDriver usando la ruta del chromedriver\n",
    "driver = webdriver.Chrome(service=s, options=options)\n",
    "\n",
    "# URL de la página de Ecobici\n",
    "url = \"https://ecobici.cdmx.gob.mx/mapa/\"\n",
    "driver.get(url)\n",
    "\n",
    "# Esperar a que la página cargue\n",
    "time.sleep(5)\n",
    "\n",
    "# Hacer clic en el encabezado \"Listado de Cicloestaciones\" para expandir el acordeón\n",
    "try:\n",
    "    encabezado = driver.find_element(By.XPATH, \"//div[contains(@class, 'collapsible-header') and contains(text(), 'Listado de Cicloestaciones')]\")\n",
    "    encabezado.click()  # Hace clic para expandir el contenido\n",
    "    print(\"Se hizo clic en 'Listado de Cicloestaciones'.\")\n",
    "except Exception as e:\n",
    "    print(\"No se encontró el encabezado o hubo un error:\", e)\n",
    "    driver.quit()\n",
    "    exit()\n",
    "\n",
    "# Esperar a que el contenido se expanda y los datos se carguen\n",
    "time.sleep(5)\n",
    "\n",
    "# Extraer la información de las estaciones\n",
    "estaciones = driver.find_elements(By.CLASS_NAME, \"btn-to-station\")\n",
    "\n",
    "# Lista para almacenar los datos\n",
    "data = []\n",
    "\n",
    "for estacion in estaciones:\n",
    "    lat = estacion.get_attribute(\"data-lat\")\n",
    "    lon = estacion.get_attribute(\"data-lon\")\n",
    "    nombre = estacion.text.strip()\n",
    "    data.append([nombre, lat, lon])\n",
    "\n",
    "# Cerrar el navegador\n",
    "driver.quit()\n",
    "\n",
    "# Guardar los datos en un archivo CSV\n",
    "with open(\"ecobici_estaciones.csv\", \"w\", newline=\"\", encoding=\"utf-8\") as file:\n",
    "    writer = csv.writer(file)\n",
    "    writer.writerow([\"Nombre\", \"Latitud\", \"Longitud\"])\n",
    "    writer.writerows(data)\n",
    "\n",
    "print(f\"Datos de {len(data)} estaciones guardados en 'ecobici_estaciones.csv'.\")\n"
   ]
  },
  {
   "cell_type": "code",
   "execution_count": 1,
   "id": "88d03395-4e14-4103-96ec-b47e5576de0a",
   "metadata": {},
   "outputs": [
    {
     "name": "stdout",
     "output_type": "stream",
     "text": [
      "Datos procesados y guardados en 'C:\\Users\\HP\\Documents\\UCM\\TFM\\Base de datos\\ecobici_estaciones_con_numero.csv'.\n"
     ]
    }
   ],
   "source": [
    "import csv\n",
    "\n",
    "# Leer el archivo CSV original\n",
    "with open('ecobici_estaciones.csv', mode='r', encoding='utf-8') as file:\n",
    "    reader = csv.reader(file)\n",
    "    header = next(reader)  # Leer el encabezado\n",
    "    data = list(reader)  # Guardar las filas en la variable 'data'\n",
    "\n",
    "# Lista para almacenar los datos procesados\n",
    "processed_data = []\n",
    "\n",
    "# Procesar los datos para agregar la columna \"Número\" y dividir en caso de que haya más de un número\n",
    "for estacion in data:\n",
    "    nombre = estacion[0]\n",
    "    lat = estacion[1]\n",
    "    lon = estacion[2]\n",
    "\n",
    "    # Extraer el número después de \"CE-\" y separar si hay dos números\n",
    "    numero = nombre.split(' ')[0][3:]  # Esto toma solo los números después de \"CE-\"\n",
    "\n",
    "    # Si el nombre contiene dos números, dividirlo en dos filas\n",
    "    if '-' in numero:\n",
    "        numeros = numero.split('-')\n",
    "        for num in numeros:\n",
    "            processed_data.append([nombre, lat, lon, num])  # Mantener el mismo nombre en cada fila\n",
    "    else:\n",
    "        processed_data.append([nombre, lat, lon, numero])  # Añadir solo una fila si hay un solo número\n",
    "\n",
    "# Guardar los datos procesados en un nuevo archivo CSV\n",
    "ruta_guardado = r\"C:\\Users\\HP\\Documents\\UCM\\TFM\\Base de datos\\ecobici_estaciones_con_numero.csv\"\n",
    "with open(ruta_guardado, mode='w', newline='', encoding='utf-8') as file:\n",
    "    writer = csv.writer(file)\n",
    "    writer.writerow([\"Nombre\", \"Latitud\", \"Longitud\", \"Número\"])  # Escribir las cabeceras\n",
    "    writer.writerows(processed_data)  # Escribir las filas procesadas\n",
    "\n",
    "print(f\"Datos procesados y guardados en '{ruta_guardado}'.\")\n",
    "\n"
   ]
  },
  {
   "cell_type": "code",
   "execution_count": null,
   "id": "3fb3e1df-cb00-40e7-9360-9b0cfb740c63",
   "metadata": {},
   "outputs": [],
   "source": []
  }
 ],
 "metadata": {
  "kernelspec": {
   "display_name": "Python 3 (ipykernel)",
   "language": "python",
   "name": "python3"
  },
  "language_info": {
   "codemirror_mode": {
    "name": "ipython",
    "version": 3
   },
   "file_extension": ".py",
   "mimetype": "text/x-python",
   "name": "python",
   "nbconvert_exporter": "python",
   "pygments_lexer": "ipython3",
   "version": "3.12.4"
  }
 },
 "nbformat": 4,
 "nbformat_minor": 5
}
